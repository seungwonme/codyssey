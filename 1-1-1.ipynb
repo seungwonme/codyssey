{
 "cells": [
  {
   "cell_type": "code",
   "execution_count": 2,
   "metadata": {},
   "outputs": [],
   "source": [
    "import pandas as pd\n",
    "\n",
    "file_path = \"prob-0101.csv\"\n",
    "movies = pd.read_csv(file_path)"
   ]
  },
  {
   "cell_type": "code",
   "execution_count": 3,
   "metadata": {},
   "outputs": [
    {
     "name": "stdout",
     "output_type": "stream",
     "text": [
      "          개봉일          제목                  배급사   감독                     출연진  \\\n",
      "0  2023-01-04         스위치  롯데컬처웍스, (주)롯데엔터테인먼트  마대윤  권상우, 오정세, 이민정, 박소이, 김준   \n",
      "1  2023-01-05        강남좀비            (주)와이드릴리즈  이수성                 지일주, 지연   \n",
      "2  2023-01-12  별 볼일 없는 인생             (주)이놀미디어  서동현                     정가은   \n",
      "3  2023-01-12    10일간의 애인               (주)그노스  이영용                     송민경   \n",
      "4  2023-01-18          교섭           플렉스엠엔터테인먼트  임순례            황정민, 현빈, 강기영   \n",
      "\n",
      "       장르  \n",
      "0      기타  \n",
      "1     드라마  \n",
      "2  멜로/로맨스  \n",
      "3  멜로/로맨스  \n",
      "4     드라마  \n"
     ]
    }
   ],
   "source": [
    "print(movies.head())"
   ]
  },
  {
   "cell_type": "code",
   "execution_count": 5,
   "metadata": {},
   "outputs": [
    {
     "name": "stdout",
     "output_type": "stream",
     "text": [
      "영화 개수: 59\n",
      "배급사 수: 52\n",
      "감독 수: 58\n",
      "출연진 수: 275\n",
      "장르 수: 20\n"
     ]
    }
   ],
   "source": [
    "num_movies = len(movies)\n",
    "\n",
    "# 배급사, 감독, 출연진, 장르 수\n",
    "num_distributors = movies[\"배급사\"].nunique()\n",
    "num_directors = movies[\"감독\"].nunique()\n",
    "num_actors = movies[\"출연진\"].apply(lambda x: len(str(x).split(\",\"))).sum()\n",
    "num_genres = movies[\"장르\"].nunique()\n",
    "\n",
    "print(f\"영화 개수: {num_movies}\")\n",
    "print(f\"배급사 수: {num_distributors}\")\n",
    "print(f\"감독 수: {num_directors}\")\n",
    "print(f\"출연진 수: {num_actors}\")\n",
    "print(f\"장르 수: {num_genres}\")"
   ]
  },
  {
   "cell_type": "code",
   "execution_count": 7,
   "metadata": {},
   "outputs": [
    {
     "name": "stdout",
     "output_type": "stream",
     "text": [
      "감독 중복 분석:\n",
      " 감독\n",
      "최윤호    2\n",
      "Name: count, dtype: int64\n",
      "고유 출연진 수: 268\n"
     ]
    }
   ],
   "source": [
    "duplicated_directors = movies[\"감독\"].value_counts()\n",
    "print(\"감독 중복 분석:\\n\", duplicated_directors[duplicated_directors > 1])\n",
    "\n",
    "movies[\"출연진 목록\"] = movies[\"출연진\"].apply(lambda x: set(str(x).split(\",\")))\n",
    "all_actors = set()\n",
    "for actors in movies[\"출연진 목록\"]:\n",
    "    all_actors.update(actors)\n",
    "\n",
    "print(f\"고유 출연진 수: {len(all_actors)}\")"
   ]
  },
  {
   "cell_type": "code",
   "execution_count": 9,
   "metadata": {},
   "outputs": [
    {
     "name": "stdout",
     "output_type": "stream",
     "text": [
      "현빈이 출연한 영화 목록:\n",
      "          개봉일  제목         배급사   감독           출연진   장르\n",
      "4  2023-01-18  교섭  플렉스엠엔터테인먼트  임순례  황정민, 현빈, 강기영  드라마\n"
     ]
    }
   ],
   "source": [
    "hyunbin_movies = movies[movies[\"출연진\"].apply(lambda x: \"현빈\" in x)]\n",
    "\n",
    "print(\"현빈이 출연한 영화 목록:\")\n",
    "print(hyunbin_movies[[\"개봉일\", \"제목\", \"배급사\", \"감독\", \"출연진\", \"장르\"]])"
   ]
  },
  {
   "cell_type": "code",
   "execution_count": 11,
   "metadata": {},
   "outputs": [
    {
     "name": "stdout",
     "output_type": "stream",
     "text": [
      "롯데컬처웍스에서 배급한 영화 목록:\n",
      "          개봉일   제목                  배급사   감독                     출연진  장르\n",
      "0  2023-01-04  스위치  롯데컬처웍스, (주)롯데엔터테인먼트  마대윤  권상우, 오정세, 이민정, 박소이, 김준  기타\n"
     ]
    }
   ],
   "source": [
    "lotte_movies = movies[movies[\"배급사\"].str.contains(\"롯데컬처웍스\")]\n",
    "\n",
    "print(\"롯데컬처웍스에서 배급한 영화 목록:\")\n",
    "print(lotte_movies[[\"개봉일\", \"제목\", \"배급사\", \"감독\", \"출연진\", \"장르\"]])"
   ]
  }
 ],
 "metadata": {
  "kernelspec": {
   "display_name": ".venv",
   "language": "python",
   "name": "python3"
  },
  "language_info": {
   "codemirror_mode": {
    "name": "ipython",
    "version": 3
   },
   "file_extension": ".py",
   "mimetype": "text/x-python",
   "name": "python",
   "nbconvert_exporter": "python",
   "pygments_lexer": "ipython3",
   "version": "3.12.8"
  }
 },
 "nbformat": 4,
 "nbformat_minor": 2
}
