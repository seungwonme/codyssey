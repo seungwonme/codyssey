{
 "cells": [
  {
   "cell_type": "code",
   "execution_count": 21,
   "metadata": {},
   "outputs": [
    {
     "name": "stdout",
     "output_type": "stream",
     "text": [
      "      people    korean        original\n",
      "0          5    아담 볼드윈    Adam Baldwin\n",
      "1          8   애드리안 라인     Adrian Lyne\n",
      "2          9     에이단 퀸     Aidan Quinn\n",
      "3         13  구로사와 아키라  Akira Kurosawa\n",
      "4         15     알 파치노       Al Pacino\n",
      "...      ...       ...             ...\n",
      "7167  390433       김형진             NaN\n",
      "7168  398299       이정진             NaN\n",
      "7169  417051    노만 라이트   Norman Wright\n",
      "7170  417052  그레이엄 헤이드     Graham Heid\n",
      "7171  420466       김미란             NaN\n",
      "\n",
      "[7172 rows x 3 columns]\n"
     ]
    }
   ],
   "source": [
    "import pandas as pd\n",
    "import numpy as np\n",
    "import os\n",
    "\n",
    "class MovieDataLoader:\n",
    "    def __init__(self, file_path):\n",
    "        self.file_path = file_path\n",
    "        self.extension = os.path.splitext(file_path)[1]\n",
    "        self.dataframe = None\n",
    "    def load(self):\n",
    "        if self.extension == '.txt':\n",
    "            self.dataframe = pd.read_csv(self.file_path, sep='\\t')\n",
    "        else:\n",
    "            self.dataframe = pd.read_csv(self.file_path)\n",
    "        return self.dataframe\n",
    "\n",
    "class RandomRecommender:\n",
    "    def __init__(self, rates_loader, movies_loader):\n",
    "        self.rates_df = rates_loader.load()\n",
    "        self.movies_df = movies_loader.load()\n",
    "\n",
    "    def run(self):\n",
    "        # 랜덤 평점 추가\n",
    "        self.rates_df['rate_random'] = np.random.rand(len(self.rates_df))\n",
    "\n",
    "        # 평점 높은 순으로 정렬\n",
    "        sorted_df = self.rates_df.sort_values(by='rate_random', ascending=False)\n",
    "\n",
    "        return sorted_df\n",
    "\n",
    "    def print_top_n(self, n):\n",
    "        sorted_df = self.run()\n",
    "        top_n_df = sorted_df.head(n)\n",
    "        print(top_n_df)\n",
    "\n",
    "\n",
    "base_path = os.getcwd()\n",
    "\n",
    "castings_csv_path = base_path + '/data/kmrd/kmr_dataset/datafile/kmrd-small/castings.csv'\n",
    "countries_csv_path = base_path + '/data/kmrd/kmr_dataset/datafile/kmrd-small/countries.csv'\n",
    "genres_csv_path = base_path + '/data/kmrd/kmr_dataset/datafile/kmrd-small/genres.csv'\n",
    "rates_csv_path = base_path + '/data/kmrd/kmr_dataset/datafile/kmrd-small/rates.csv'\n",
    "movies_txt_path = base_path + '/data/kmrd/kmr_dataset/datafile/kmrd-small/movies.txt'\n",
    "peoples_txt_path = base_path + '/data/kmrd/kmr_dataset/datafile/kmrd-small/peoples.txt'\n",
    "\n",
    "# 파일 경로 리스트\n",
    "db_paths = [\n",
    "    castings_csv_path,\n",
    "    countries_csv_path,\n",
    "    genres_csv_path,\n",
    "    rates_csv_path,\n",
    "    movies_txt_path,\n",
    "    peoples_txt_path\n",
    "]\n",
    "\n",
    "# 모든 DataFrame을 저장할 리스트\n",
    "dataframes = []\n",
    "\n",
    "# 각 파일을 읽어들여 리스트에 추가\n",
    "for db_path in db_paths:\n",
    "    loader = MovieDataLoader(db_path)\n",
    "    dataframes.append(loader.load())\n",
    "\n",
    "# 첫 번째 DataFrame의 첫 몇 줄을 출력\n",
    "print(dataframes[5])"
   ]
  },
  {
   "cell_type": "code",
   "execution_count": null,
   "metadata": {},
   "outputs": [],
   "source": []
  }
 ],
 "metadata": {
  "kernelspec": {
   "display_name": ".venv",
   "language": "python",
   "name": "python3"
  },
  "language_info": {
   "codemirror_mode": {
    "name": "ipython",
    "version": 3
   },
   "file_extension": ".py",
   "mimetype": "text/x-python",
   "name": "python",
   "nbconvert_exporter": "python",
   "pygments_lexer": "ipython3",
   "version": "3.12.8"
  }
 },
 "nbformat": 4,
 "nbformat_minor": 2
}
