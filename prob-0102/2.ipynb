{
 "cells": [
  {
   "cell_type": "code",
   "execution_count": 3,
   "metadata": {},
   "outputs": [],
   "source": [
    "import pandas as pd\n",
    "import os\n",
    "from enum import Enum\n",
    "from typing import List\n",
    "\n",
    "class MovieDataLoader:\n",
    "    def __init__(self, file_path: str):\n",
    "        self.file_path = file_path\n",
    "        self.extension = os.path.splitext(file_path)[1]\n",
    "        self.dataframe = None\n",
    "\n",
    "    def load(self) -> pd.DataFrame:\n",
    "        self.dataframe = pd.read_csv(\n",
    "            self.file_path,\n",
    "            sep='\\t' if self.extension == '.txt' else ','\n",
    "        )\n",
    "        return self.dataframe\n",
    "\n",
    "class DB(Enum):\n",
    "    CASTINGS = 0\n",
    "    COUNTRIES = 1\n",
    "    GENRES = 2\n",
    "    RATES = 3\n",
    "    MOVIES = 4\n",
    "    PEOPLES = 5\n",
    "\n",
    "def get_dataframes() -> List[pd.DataFrame]:\n",
    "    base_path = os.path.join(\n",
    "        os.getcwd(),\n",
    "        \"data/kmrd/kmr_dataset/datafile/kmrd-small\"\n",
    "    )\n",
    "    db_name = [\"castings.csv\", \"countries.csv\", \"genres.csv\", \"rates.csv\", \"movies.txt\", \"peoples.txt\"]\n",
    "    db_paths = [os.path.join(base_path, name) for name in db_name]\n",
    "    return [MovieDataLoader(path).load() for path in db_paths]"
   ]
  },
  {
   "cell_type": "code",
   "execution_count": 7,
   "metadata": {},
   "outputs": [
    {
     "name": "stdout",
     "output_type": "stream",
     "text": [
      "   movie  people  order  leading\n",
      "0  10001    4374      1        1\n",
      "1  10001     178      2        1\n",
      "2  10001    3241      3        1\n",
      "3  10001   47952      4        1\n",
      "4  10001   47953      5        0\n",
      "   movie country\n",
      "0  10001    이탈리아\n",
      "1  10001     프랑스\n",
      "2  10002      미국\n",
      "3  10003      미국\n",
      "4  10004      미국\n",
      "   movie   genre\n",
      "0  10001     드라마\n",
      "1  10001  멜로/로맨스\n",
      "2  10002      SF\n",
      "3  10002     코미디\n",
      "4  10003      SF\n",
      "   user  movie  rate        time\n",
      "0     0  10003     7  1494128040\n",
      "1     0  10004     7  1467529800\n",
      "2     0  10018     9  1513344120\n",
      "3     0  10021     9  1424497980\n",
      "4     0  10022     7  1427627340\n",
      "   movie                 title                           title_eng    year  \\\n",
      "0  10001                시네마 천국              Cinema Paradiso , 1988  2013.0   \n",
      "1  10002              빽 투 더 퓨쳐           Back To The Future , 1985  2015.0   \n",
      "2  10003            빽 투 더 퓨쳐 2    Back To The Future Part 2 , 1989  2015.0   \n",
      "3  10004            빽 투 더 퓨쳐 3  Back To The Future Part III , 1990  1990.0   \n",
      "4  10005  스타워즈 에피소드 4 - 새로운 희망                    Star Wars , 1977  1997.0   \n",
      "\n",
      "     grade  \n",
      "0   전체 관람가  \n",
      "1  12세 관람가  \n",
      "2  12세 관람가  \n",
      "3   전체 관람가  \n",
      "4       PG  \n"
     ]
    }
   ],
   "source": [
    "dataframes = get_dataframes()\n",
    "castings_df = dataframes[DB.CASTINGS.value]\n",
    "countries_df = dataframes[DB.COUNTRIES.value]\n",
    "genres_df = dataframes[DB.GENRES.value]\n",
    "rates_df = dataframes[DB.RATES.value]\n",
    "movies_df = dataframes[DB.MOVIES.value]\n",
    "\n",
    "print(castings_df.head())\n",
    "print(countries_df.head())\n",
    "print(genres_df.head())\n",
    "print(rates_df.head())\n",
    "print(movies_df.head())"
   ]
  },
  {
   "cell_type": "code",
   "execution_count": 18,
   "metadata": {},
   "outputs": [
    {
     "name": "stdout",
     "output_type": "stream",
     "text": [
      "사용자 수: 52028\n",
      "영화 수: 600\n",
      "평점 수: 140710\n",
      "제작 국가 수: 36\n",
      "출연진 수: 6644\n",
      "장르 수: 20\n"
     ]
    }
   ],
   "source": [
    "print(f\"사용자 수: {rates_df['user'].nunique()}\")\n",
    "print(f\"영화 수: {rates_df['movie'].nunique()}\")\n",
    "print(f\"평점 수: {rates_df.shape[0]}\")\n",
    "print(f\"제작 국가 수: {countries_df['country'].nunique()}\")\n",
    "print(f\"출연진 수: {castings_df['people'].nunique()}\")\n",
    "print(f\"장르 수: {genres_df['genre'].nunique()}\")"
   ]
  }
 ],
 "metadata": {
  "kernelspec": {
   "display_name": ".venv",
   "language": "python",
   "name": "python3"
  },
  "language_info": {
   "codemirror_mode": {
    "name": "ipython",
    "version": 3
   },
   "file_extension": ".py",
   "mimetype": "text/x-python",
   "name": "python",
   "nbconvert_exporter": "python",
   "pygments_lexer": "ipython3",
   "version": "3.12.8"
  }
 },
 "nbformat": 4,
 "nbformat_minor": 2
}
