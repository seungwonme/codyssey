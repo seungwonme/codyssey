{
 "cells": [
  {
   "cell_type": "code",
   "execution_count": 26,
   "metadata": {},
   "outputs": [],
   "source": [
    "import pandas as pd\n",
    "import os\n",
    "from enum import Enum\n",
    "from typing import List\n",
    "\n",
    "class MovieDataLoader:\n",
    "    def __init__(self, file_path: str):\n",
    "        self.file_path = file_path\n",
    "        self.extension = os.path.splitext(file_path)[1]\n",
    "        self.dataframe = None\n",
    "\n",
    "    def load(self) -> pd.DataFrame:\n",
    "        self.dataframe = pd.read_csv(\n",
    "            self.file_path,\n",
    "            sep='\\t' if self.extension == '.txt' else ','\n",
    "        )\n",
    "        return self.dataframe\n",
    "\n",
    "class DB(Enum):\n",
    "    CASTINGS = 0\n",
    "    COUNTRIES = 1\n",
    "    GENRES = 2\n",
    "    RATES = 3\n",
    "    MOVIES = 4\n",
    "    PEOPLES = 5\n",
    "\n",
    "def get_dataframes() -> List[pd.DataFrame]:\n",
    "    base_path = \"../data/kmrd/kmr_dataset/datafile/kmrd-small\"\n",
    "    db_name = [\"castings.csv\", \"countries.csv\", \"genres.csv\", \"rates.csv\", \"movies.txt\", \"peoples.txt\"]\n",
    "    db_paths = [os.path.join(base_path, name) for name in db_name]\n",
    "    return [MovieDataLoader(path).load() for path in db_paths]"
   ]
  },
  {
   "cell_type": "code",
   "execution_count": 27,
   "metadata": {},
   "outputs": [],
   "source": [
    "dataframes = get_dataframes()\n",
    "castings_df = dataframes[DB.CASTINGS.value]\n",
    "countries_df = dataframes[DB.COUNTRIES.value]\n",
    "genres_df = dataframes[DB.GENRES.value]\n",
    "rates_df = dataframes[DB.RATES.value]\n",
    "movies_df = dataframes[DB.MOVIES.value]\n",
    "peoples_df = dataframes[DB.PEOPLES.value]"
   ]
  },
  {
   "cell_type": "code",
   "execution_count": 20,
   "metadata": {},
   "outputs": [
    {
     "name": "stdout",
     "output_type": "stream",
     "text": [
      "==============castings_df==============\n",
      "<class 'pandas.core.frame.DataFrame'>\n",
      "RangeIndex: 9776 entries, 0 to 9775\n",
      "Data columns (total 4 columns):\n",
      " #   Column   Non-Null Count  Dtype\n",
      "---  ------   --------------  -----\n",
      " 0   movie    9776 non-null   int64\n",
      " 1   people   9776 non-null   int64\n",
      " 2   order    9776 non-null   int64\n",
      " 3   leading  9776 non-null   int64\n",
      "dtypes: int64(4)\n",
      "memory usage: 305.6 KB\n",
      "None\n",
      "==============countries_df==============\n",
      "<class 'pandas.core.frame.DataFrame'>\n",
      "RangeIndex: 1109 entries, 0 to 1108\n",
      "Data columns (total 2 columns):\n",
      " #   Column   Non-Null Count  Dtype \n",
      "---  ------   --------------  ----- \n",
      " 0   movie    1109 non-null   int64 \n",
      " 1   country  1109 non-null   object\n",
      "dtypes: int64(1), object(1)\n",
      "memory usage: 17.5+ KB\n",
      "None\n"
     ]
    }
   ],
   "source": [
    "print(\"==============castings_df==============\")\n",
    "# order -> key of castings.csv\n",
    "# leader -> is lead actor\n",
    "print(castings_df.info())\n",
    "print(\"==============countries_df==============\")\n",
    "print(countries_df.info())"
   ]
  },
  {
   "cell_type": "code",
   "execution_count": 21,
   "metadata": {},
   "outputs": [
    {
     "name": "stdout",
     "output_type": "stream",
     "text": [
      "==============genres_df==============\n",
      "<class 'pandas.core.frame.DataFrame'>\n",
      "RangeIndex: 2025 entries, 0 to 2024\n",
      "Data columns (total 2 columns):\n",
      " #   Column  Non-Null Count  Dtype \n",
      "---  ------  --------------  ----- \n",
      " 0   movie   2025 non-null   int64 \n",
      " 1   genre   2025 non-null   object\n",
      "dtypes: int64(1), object(1)\n",
      "memory usage: 31.8+ KB\n",
      "None\n",
      "==============rates_df==============\n",
      "<class 'pandas.core.frame.DataFrame'>\n",
      "RangeIndex: 140710 entries, 0 to 140709\n",
      "Data columns (total 4 columns):\n",
      " #   Column  Non-Null Count   Dtype\n",
      "---  ------  --------------   -----\n",
      " 0   user    140710 non-null  int64\n",
      " 1   movie   140710 non-null  int64\n",
      " 2   rate    140710 non-null  int64\n",
      " 3   time    140710 non-null  int64\n",
      "dtypes: int64(4)\n",
      "memory usage: 4.3 MB\n",
      "None\n"
     ]
    }
   ],
   "source": [
    "print(\"==============genres_df==============\")\n",
    "print(genres_df.info())\n",
    "print(\"==============rates_df==============\")\n",
    "print(rates_df.info())"
   ]
  },
  {
   "cell_type": "code",
   "execution_count": 28,
   "metadata": {},
   "outputs": [
    {
     "name": "stdout",
     "output_type": "stream",
     "text": [
      "==============movies_df==============\n",
      "<class 'pandas.core.frame.DataFrame'>\n",
      "RangeIndex: 999 entries, 0 to 998\n",
      "Data columns (total 5 columns):\n",
      " #   Column     Non-Null Count  Dtype  \n",
      "---  ------     --------------  -----  \n",
      " 0   movie      999 non-null    int64  \n",
      " 1   title      992 non-null    object \n",
      " 2   title_eng  991 non-null    object \n",
      " 3   year       609 non-null    float64\n",
      " 4   grade      957 non-null    object \n",
      "dtypes: float64(1), int64(1), object(3)\n",
      "memory usage: 39.2+ KB\n",
      "None\n",
      "==============peoples_df==============\n",
      "<class 'pandas.core.frame.DataFrame'>\n",
      "RangeIndex: 7172 entries, 0 to 7171\n",
      "Data columns (total 3 columns):\n",
      " #   Column    Non-Null Count  Dtype \n",
      "---  ------    --------------  ----- \n",
      " 0   people    7172 non-null   int64 \n",
      " 1   korean    7172 non-null   object\n",
      " 2   original  6305 non-null   object\n",
      "dtypes: int64(1), object(2)\n",
      "memory usage: 168.2+ KB\n",
      "None\n"
     ]
    }
   ],
   "source": [
    "print(\"==============movies_df==============\")\n",
    "print(movies_df.info())\n",
    "print(\"==============peoples_df==============\")\n",
    "print(peoples_df.info())"
   ]
  },
  {
   "cell_type": "code",
   "execution_count": 33,
   "metadata": {},
   "outputs": [
    {
     "name": "stdout",
     "output_type": "stream",
     "text": [
      "사용자 수: 52028\n",
      "영화 수: 999\n",
      "평점 수: 140710\n",
      "제작 국가 수: 36\n",
      "출연진 수: 7172\n",
      "장르 수: 20\n"
     ]
    }
   ],
   "source": [
    "print(f\"사용자 수: {rates_df['user'].nunique()}\")\n",
    "print(f\"영화 수: {movies_df[\"movie\"].nunique()}\")\n",
    "print(f\"평점 수: {rates_df.shape[0]}\")\n",
    "print(f\"제작 국가 수: {countries_df['country'].nunique()}\")\n",
    "print(f\"출연진 수: {peoples_df['people'].nunique()}\")\n",
    "print(f\"장르 수: {genres_df['genre'].nunique()}\")"
   ]
  }
 ],
 "metadata": {
  "kernelspec": {
   "display_name": "base",
   "language": "python",
   "name": "python3"
  },
  "language_info": {
   "codemirror_mode": {
    "name": "ipython",
    "version": 3
   },
   "file_extension": ".py",
   "mimetype": "text/x-python",
   "name": "python",
   "nbconvert_exporter": "python",
   "pygments_lexer": "ipython3",
   "version": "3.12.8"
  }
 },
 "nbformat": 4,
 "nbformat_minor": 2
}
