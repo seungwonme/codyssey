{
 "cells": [
  {
   "cell_type": "code",
   "execution_count": 1,
   "metadata": {},
   "outputs": [],
   "source": [
    "import pandas as pd\n",
    "import os\n",
    "from enum import Enum\n",
    "from typing import List\n",
    "\n",
    "class MovieDataLoader:\n",
    "    def __init__(self, file_path: str):\n",
    "        self.file_path = file_path\n",
    "        self.extension = os.path.splitext(file_path)[1]\n",
    "        self.dataframe = None\n",
    "\n",
    "    def load(self) -> pd.DataFrame:\n",
    "        self.dataframe = pd.read_csv(\n",
    "            self.file_path,\n",
    "            sep='\\t' if self.extension == '.txt' else ','\n",
    "        )\n",
    "        return self.dataframe\n",
    "\n",
    "class DB(Enum):\n",
    "    CASTINGS = 0\n",
    "    COUNTRIES = 1\n",
    "    GENRES = 2\n",
    "    RATES = 3\n",
    "    MOVIES = 4\n",
    "    PEOPLES = 5\n",
    "\n",
    "def get_dataframes() -> List[pd.DataFrame]:\n",
    "    base_path = os.path.join(\n",
    "        os.getcwd(),\n",
    "        \"data/kmrd/kmr_dataset/datafile/kmrd-small\"\n",
    "    )\n",
    "    db_name = [\"castings.csv\", \"countries.csv\", \"genres.csv\", \"rates.csv\", \"movies.txt\", \"peoples.txt\"]\n",
    "    db_paths = [os.path.join(base_path, name) for name in db_name]\n",
    "    return [MovieDataLoader(path).load() for path in db_paths]"
   ]
  },
  {
   "cell_type": "code",
   "execution_count": 2,
   "metadata": {},
   "outputs": [
    {
     "name": "stdout",
     "output_type": "stream",
     "text": [
      "castings_df\n",
      "   movie  people  order  leading\n",
      "0  10001    4374      1        1\n",
      "1  10001     178      2        1\n",
      "2  10001    3241      3        1\n",
      "3  10001   47952      4        1\n",
      "4  10001   47953      5        0\n",
      "countries_df\n",
      "   movie country\n",
      "0  10001    이탈리아\n",
      "1  10001     프랑스\n",
      "2  10002      미국\n",
      "3  10003      미국\n",
      "4  10004      미국\n",
      "genres_df\n",
      "   movie   genre\n",
      "0  10001     드라마\n",
      "1  10001  멜로/로맨스\n",
      "2  10002      SF\n",
      "3  10002     코미디\n",
      "4  10003      SF\n"
     ]
    }
   ],
   "source": [
    "dataframes = get_dataframes()\n",
    "castings_df = dataframes[DB.CASTINGS.value]\n",
    "countries_df = dataframes[DB.COUNTRIES.value]\n",
    "genres_df = dataframes[DB.GENRES.value]\n",
    "rates_df = dataframes[DB.RATES.value]\n",
    "movies_df = dataframes[DB.MOVIES.value]\n",
    "peoples_df = dataframes[DB.PEOPLES.value]\n",
    "\n",
    "print(\"castings_df\")\n",
    "print(castings_df.head())\n",
    "print(\"countries_df\")\n",
    "print(countries_df.head())\n",
    "print(\"genres_df\")\n",
    "print(genres_df.head())"
   ]
  },
  {
   "cell_type": "code",
   "execution_count": 3,
   "metadata": {},
   "outputs": [
    {
     "name": "stdout",
     "output_type": "stream",
     "text": [
      "rates_df\n",
      "   user  movie  rate        time\n",
      "0     0  10003     7  1494128040\n",
      "1     0  10004     7  1467529800\n",
      "2     0  10018     9  1513344120\n",
      "3     0  10021     9  1424497980\n",
      "4     0  10022     7  1427627340\n",
      "movies_df\n",
      "   movie                 title                           title_eng    year  \\\n",
      "0  10001                시네마 천국              Cinema Paradiso , 1988  2013.0   \n",
      "1  10002              빽 투 더 퓨쳐           Back To The Future , 1985  2015.0   \n",
      "2  10003            빽 투 더 퓨쳐 2    Back To The Future Part 2 , 1989  2015.0   \n",
      "3  10004            빽 투 더 퓨쳐 3  Back To The Future Part III , 1990  1990.0   \n",
      "4  10005  스타워즈 에피소드 4 - 새로운 희망                    Star Wars , 1977  1997.0   \n",
      "\n",
      "     grade  \n",
      "0   전체 관람가  \n",
      "1  12세 관람가  \n",
      "2  12세 관람가  \n",
      "3   전체 관람가  \n",
      "4       PG  \n",
      "peoples_df\n",
      "   people    korean        original\n",
      "0       5    아담 볼드윈    Adam Baldwin\n",
      "1       8   애드리안 라인     Adrian Lyne\n",
      "2       9     에이단 퀸     Aidan Quinn\n",
      "3      13  구로사와 아키라  Akira Kurosawa\n",
      "4      15     알 파치노       Al Pacino\n"
     ]
    }
   ],
   "source": [
    "print(\"rates_df\")\n",
    "print(rates_df.head())\n",
    "print(\"movies_df\")\n",
    "print(movies_df.head())\n",
    "print(\"peoples_df\")\n",
    "print(peoples_df.head())"
   ]
  },
  {
   "cell_type": "code",
   "execution_count": 4,
   "metadata": {},
   "outputs": [
    {
     "name": "stdout",
     "output_type": "stream",
     "text": [
      "결측치 확인:\n",
      "movie          0\n",
      "title          7\n",
      "title_eng      8\n",
      "year         390\n",
      "grade         42\n",
      "dtype: int64\n",
      "movie      0\n",
      "people     0\n",
      "order      0\n",
      "leading    0\n",
      "dtype: int64\n",
      "movie      0\n",
      "country    0\n",
      "dtype: int64\n",
      "movie    0\n",
      "genre    0\n",
      "dtype: int64\n",
      "user     0\n",
      "movie    0\n",
      "rate     0\n",
      "time     0\n",
      "dtype: int64\n"
     ]
    }
   ],
   "source": [
    "from datetime import datetime\n",
    "\n",
    "# 결측치 확인\n",
    "def print_missing_values():\n",
    "    print(\"결측치 확인:\")\n",
    "    print(movies_df.isnull().sum())\n",
    "    print(castings_df.isnull().sum())\n",
    "    print(countries_df.isnull().sum())\n",
    "    print(genres_df.isnull().sum())\n",
    "    print(rates_df.isnull().sum())\n",
    "\n",
    "def remove_missing_values():\n",
    "    global movies_df, peoples_df\n",
    "    movies_df['year'] = pd.to_numeric(movies_df['year'], errors='coerce')\n",
    "    year_median = movies_df['year'].median() if not movies_df['year'].isna().all() else 0\n",
    "\n",
    "    # Fill missing values\n",
    "    movies_df.fillna({\n",
    "        'title': 'Unknown',\n",
    "        'title_eng': 'Unknown',\n",
    "        'year': year_median,\n",
    "        'grade': \"Unknown\",\n",
    "    }, inplace=True)\n",
    "\n",
    "    peoples_df.fillna({\n",
    "        'original': 'Unknown'\n",
    "    }, inplace=True)\n",
    "\n",
    "def remove_outliers():\n",
    "    global castings_df, countries_df, genres_df, rates_df, movies_df\n",
    "    current_year = datetime.now().year\n",
    "\n",
    "    castings_df = castings_df[\n",
    "        (castings_df[\"leading\"] == 0)\n",
    "        | (castings_df[\"leading\"] == 1)\n",
    "    ]\n",
    "    countries_df = countries_df[\n",
    "        (10000 < countries_df[\"movie\"])\n",
    "        & (countries_df[\"movie\"] < 11000)\n",
    "    ]\n",
    "    genres_df = genres_df[\n",
    "        (10000 < genres_df[\"movie\"])\n",
    "        & (genres_df[\"movie\"] < 11000)\n",
    "    ]\n",
    "    rates_df = rates_df[\n",
    "        (0 < rates_df[\"rate\"])\n",
    "        & (rates_df[\"rate\"] <= 10)\n",
    "        & (10000 < rates_df[\"movie\"])\n",
    "        & (rates_df[\"movie\"] < 11000)\n",
    "    ]\n",
    "    movies_df = movies_df[\n",
    "        (movies_df[\"year\"] >= 1895)\n",
    "        & (movies_df[\"year\"] < current_year)\n",
    "        & (10000 < movies_df[\"movie\"])\n",
    "        & (movies_df[\"movie\"] < 11000)\n",
    "    ]\n",
    "\n",
    "print_missing_values()"
   ]
  },
  {
   "cell_type": "code",
   "execution_count": 5,
   "metadata": {},
   "outputs": [
    {
     "name": "stdout",
     "output_type": "stream",
     "text": [
      "결측치 확인:\n",
      "movie        0\n",
      "title        0\n",
      "title_eng    0\n",
      "year         0\n",
      "grade        0\n",
      "dtype: int64\n",
      "movie      0\n",
      "people     0\n",
      "order      0\n",
      "leading    0\n",
      "dtype: int64\n",
      "movie      0\n",
      "country    0\n",
      "dtype: int64\n",
      "movie    0\n",
      "genre    0\n",
      "dtype: int64\n",
      "user     0\n",
      "movie    0\n",
      "rate     0\n",
      "time     0\n",
      "dtype: int64\n"
     ]
    }
   ],
   "source": [
    "remove_missing_values()\n",
    "print_missing_values()"
   ]
  },
  {
   "cell_type": "code",
   "execution_count": 6,
   "metadata": {},
   "outputs": [
    {
     "data": {
      "text/plain": [
       "<Figure size 1600x900 with 0 Axes>"
      ]
     },
     "execution_count": 6,
     "metadata": {},
     "output_type": "execute_result"
    },
    {
     "data": {
      "text/plain": [
       "<Figure size 1600x900 with 0 Axes>"
      ]
     },
     "metadata": {},
     "output_type": "display_data"
    }
   ],
   "source": [
    "import matplotlib.pyplot as plt\n",
    "import matplotlib.font_manager as fm\n",
    "import seaborn as sns\n",
    "\n",
    "# D2Coding 폰트 경로 설정\n",
    "font_path = \"../D2Coding.ttf\"\n",
    "fontprop = fm.FontProperties(fname=font_path)\n",
    "\n",
    "# 폰트 설정\n",
    "plt.rc(\"font\", family=fontprop.get_name())\n",
    "plt.rcParams.update({\"font.size\": 8})  # Set the font size to 14\n",
    "plt.figure(figsize=(16, 9))\n"
   ]
  },
  {
   "cell_type": "code",
   "execution_count": 8,
   "metadata": {},
   "outputs": [
    {
     "name": "stdout",
     "output_type": "stream",
     "text": [
      "country\n",
      "미국            654\n",
      "영국             94\n",
      "한국             94\n",
      "프랑스            70\n",
      "홍콩             51\n",
      "이탈리아           43\n",
      "독일(구 서독)       20\n",
      "오스트레일리아        12\n",
      "대만             10\n",
      "스페인             7\n",
      "캐나다             6\n",
      "일본              6\n",
      "중국              5\n",
      "스웨덴             4\n",
      "러시아(구 소련)       4\n",
      "남아프리카 공화국       3\n",
      "폴란드             3\n",
      "알제리             2\n",
      "독일              2\n",
      "브라질             2\n",
      "보츠와나            2\n",
      "핀란드             1\n",
      "국가불명            1\n",
      "터키              1\n",
      "벨기에             1\n",
      "노르웨이            1\n",
      "뉴질랜드            1\n",
      "그리스             1\n",
      "덴마크             1\n",
      "아일랜드            1\n",
      "네덜란드            1\n",
      "아르헨티나           1\n",
      "벨라루스(구 소련)      1\n",
      "유고슬라비아          1\n",
      "체코              1\n",
      "멕시코             1\n",
      "Name: count, dtype: int64\n"
     ]
    },
    {
     "data": {
      "image/png": "[encoded data removed]",
      "text/plain": [
       "<Figure size 640x480 with 1 Axes>"
      ]
     },
     "metadata": {},
     "output_type": "display_data"
    }
   ],
   "source": [
    "# 국가별 영화 개수 계산\n",
    "country_counts = countries_df['country'].value_counts()\n",
    "print(country_counts)\n",
    "\n",
    "# 바 차트 그리기\n",
    "country_counts.plot(kind='bar')\n",
    "plt.title('국가별 영화 개수')\n",
    "plt.xlabel('국가')\n",
    "plt.ylabel('영화 개수')\n",
    "plt.xticks(rotation=45)\n",
    "plt.show()"
   ]
  },
  {
   "cell_type": "code",
   "execution_count": 14,
   "metadata": {},
   "outputs": [
    {
     "name": "stdout",
     "output_type": "stream",
     "text": [
      "    movie  people  order  leading\n",
      "0   10001    4374      1        1\n",
      "1   10001     178      2        1\n",
      "2   10001    3241      3        1\n",
      "3   10001   47952      4        1\n",
      "16  10002    1076      1        1\n",
      "가장 많은 영화에 주연으로 출연한 배우: 로버트 드 니로\n"
     ]
    }
   ],
   "source": [
    "# 주연 배우 필터링\n",
    "leading_actors = castings_df[castings_df['leading'] == 1]\n",
    "print(leading_actors.head())\n",
    "\n",
    "# 주연 배우별 영화 출연 횟수 계산\n",
    "leading_actor_counts = leading_actors['people'].value_counts()\n",
    "\n",
    "# 가장 많은 영화에 출연한 배우의 ID\n",
    "most_frequent_leading_actor_id = leading_actor_counts.idxmax()\n",
    "\n",
    "# 배우의 이름 찾기\n",
    "most_frequent_leading_actor = peoples_df[peoples_df['people'] == most_frequent_leading_actor_id]\n",
    "\n",
    "# 결과 출력\n",
    "print(f\"가장 많은 영화에 주연으로 출연한 배우: {most_frequent_leading_actor[\"korean\"].values[0]}\")"
   ]
  },
  {
   "cell_type": "code",
   "execution_count": 16,
   "metadata": {},
   "outputs": [
    {
     "name": "stdout",
     "output_type": "stream",
     "text": [
      "가장 많은 영화에 조연으로 출연한 배우: 우마\n",
      "\n"
     ]
    }
   ],
   "source": [
    "# 조연 배우 필터링\n",
    "supporting_actors = castings_df[castings_df['leading'] == 0]\n",
    "\n",
    "# 조연 배우별 영화 출연 횟수 계산\n",
    "supporting_actor_counts = supporting_actors['people'].value_counts()\n",
    "\n",
    "# 가장 많은 영화에 출연한 조연 배우의 ID\n",
    "most_frequent_supporting_actor_id = supporting_actor_counts.idxmax()\n",
    "\n",
    "# 배우의 이름 찾기\n",
    "most_frequent_supporting_actor = peoples_df[peoples_df['people'] == most_frequent_supporting_actor_id]\n",
    "print(f\"가장 많은 영화에 조연으로 출연한 배우: {most_frequent_supporting_actor[\"korean\"].values[0]}\" )"
   ]
  },
  {
   "cell_type": "code",
   "execution_count": 24,
   "metadata": {},
   "outputs": [
    {
     "name": "stdout",
     "output_type": "stream",
     "text": [
      "Index([ 1327,  1843,   290,  1422,  1507,  1336,  1055,   535,    99,   556,\n",
      "        1248,  1000,   473,  1454,   514,  1068,  1822,    15,  1945,  1994,\n",
      "        1359,   635,   496,  1491,  1216,  1633,   376,   887,   430,   611,\n",
      "       10649,  2466,  1833, 11039,   921,  1330,  1635,   107,  1338,  1300,\n",
      "        1066,   226,  3791,  4760,   780, 11045,   881,  1098,   500,  1157,\n",
      "         308,  2564,  1558,  9301,   380,  1303,   506,   652, 11044,  1501,\n",
      "       16197,   838,   889,  1678,  1663,  9546,   178,  8417, 11155,  1800,\n",
      "        1025,   867, 11153,  1096,   585,   357,  1247,  1508, 11047,    35,\n",
      "        1205,  4779,   709,   784,  1017,  1381,  2101,   187],\n",
      "      dtype='int64', name='people')\n",
      "           mean  count\n",
      "movie                 \n",
      "10001  9.294360   3635\n",
      "10002  9.416778   3004\n",
      "10003  9.270981    989\n",
      "10004  9.120000    700\n",
      "10005  9.048619    905\n",
      "...         ...    ...\n",
      "10983  9.178571     56\n",
      "10985  4.571429      7\n",
      "10988  9.076923     13\n",
      "10994  7.684211     57\n",
      "10998  8.882759    145\n",
      "\n",
      "[600 rows x 2 columns]\n",
      "           mean  count\n",
      "movie                 \n",
      "10294  9.764706     51\n",
      "10354  9.756410     78\n",
      "10176  9.722222     18\n",
      "평균 평점이 가장 높은 영화의 주연 배우:\n",
      "     people    korean        original\n",
      "353     889    커스티 앨리   Kirstie Alley\n",
      "465    1205  패트릭 스웨이지  Patrick Swayze\n"
     ]
    }
   ],
   "source": [
    "# 주연 배우 필터링\n",
    "leading_actors = castings_df[castings_df['leading'] == 1]\n",
    "\n",
    "# 주연 배우별 영화 출연 횟수 계산\n",
    "leading_actor_counts = leading_actors['people'].value_counts()\n",
    "\n",
    "# 5편 이상 출연한 배우 필터링\n",
    "leading_actors_filtered = leading_actor_counts[leading_actor_counts >= 5].index\n",
    "print(leading_actors_filtered)\n",
    "\n",
    "# 5편 이상 출연한 배우의 영화 필터링\n",
    "leading_movies = leading_actors[leading_actors['people'].isin(leading_actors_filtered)]\n",
    "\n",
    "# 영화별 평점 계산\n",
    "movie_ratings = rates_df.groupby('movie')['rate'].agg(['mean', 'count'])\n",
    "print(movie_ratings)\n",
    "\n",
    "# 평점이 10개 이상인 영화 필터링\n",
    "filtered_movie_ratings = movie_ratings[movie_ratings['count'] >= 10]\n",
    "\n",
    "# 평균 평점이 가장 높은 영화 찾기\n",
    "top_movies = filtered_movie_ratings.sort_values(by='mean', ascending=False).head(3)\n",
    "print(top_movies)\n",
    "\n",
    "# 해당 영화의 주연 배우 찾기\n",
    "top_movie_ids = top_movies.index\n",
    "top_movie_actors = leading_movies[leading_movies['movie'].isin(top_movie_ids)]\n",
    "\n",
    "# 배우의 이름 찾기\n",
    "top_actors = peoples_df[peoples_df['people'].isin(top_movie_actors['people'])]\n",
    "\n",
    "# 결과 출력\n",
    "print(\"평균 평점이 가장 높은 영화의 주연 배우:\")\n",
    "print(top_actors)"
   ]
  }
 ],
 "metadata": {
  "kernelspec": {
   "display_name": "base",
   "language": "python",
   "name": "python3"
  },
  "language_info": {
   "codemirror_mode": {
    "name": "ipython",
    "version": 3
   },
   "file_extension": ".py",
   "mimetype": "text/x-python",
   "name": "python",
   "nbconvert_exporter": "python",
   "pygments_lexer": "ipython3",
   "version": "3.12.8"
  }
 },
 "nbformat": 4,
 "nbformat_minor": 2
}
